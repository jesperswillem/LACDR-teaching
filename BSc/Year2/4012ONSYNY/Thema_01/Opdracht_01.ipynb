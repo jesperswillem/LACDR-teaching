{
 "cells": [
  {
   "cell_type": "markdown",
   "id": "6d2d43a9",
   "metadata": {},
   "source": [
    "## Thema I\n",
    "\n",
    "Zoals in het introductiecollege aan bod is gekomen gaat het onderzoek naar nieuwe geneesmiddelen door verschillende fasen en richten wij ons tijdens het vak Ontwerp en Synthese op het farmacochemische gedeelte. Hier ligt de nadruk op de moleculaire interacties tussen moleculen en hun “doeleiwit”. Het doel van farmacochemici is om deze interactie in detail te begrijpen en te optimaliseren, zodat er betere liganden ontwikkeld kunnen worden, die uiteindelijk eventueel als geneesmiddel kunnen dienen. Voordat we echter richting de moleculen redeneren is het essentieel om een goed begrip te hebben van het eiwit dat we proberen te moduleren. Farmaceutisch interessante eiwitten (doeleiwitten of “drug targets”) komen voor in veel verschillende vormen, maar van oudsher zijn de G eiwit-gekoppelde receptoren heel belangrijke drug targets. Deze targets hebben bepaalde gemeenschappelijke structuurkenmerken en werkingsmechanismen, maar ook essentiële verschillen en functies in het lichaam. Tijdens thema 1 duiken we in deze details en bewegen we richting het (3D)-ontwerp van liganden.\n"
   ]
  },
  {
   "cell_type": "markdown",
   "id": "53176068",
   "metadata": {},
   "source": [
    "Adenosine receptors and their ligands\n",
    "Van oudsher was het geneesmiddel-ontwerpproces een beetje gokwerk. Men vergeleek bekende werkzame stoffen en probeerde hier een soort algemene regel op te stellen voor de werkzaamheid van de stof op basis van de structuur. Tegenwoordig zijn er meerdere 3D structuren van de Adenosine A1 receptor beschikbaar. Deze zijn echter pas recent opgelost en toch zijn er vele liganden met zeer hoge affiniteit voor de receptor ontworpen in het verleden. Hiervoor zijn “klassieke” ontwerpstrategieën gebruikt die nog steeds toepasbaar zijn in het farmacochemisch onderzoek. We hebben namelijk nog lang niet altijd een kristalstructuur tot onze beschikking en zelfs als deze beschikbaar is is dit geen heilige graal. Om toch nieuwe liganden te ontwerpen wordt vaak gekeken naar de bestaande liganden. Dit kunnen zogenaamde endogene liganden zijn (zoals adenosine voor de adenosine receptoren) of natuurstofjes die wij van oudsher gebruiken om receptoren te blokkeren (zoals cafeïne voor de adenosine receptoren). Hiernaast zijn er vaak ook nog flink wat liganden die door de mens gesynthetiseerd zijn op basis van deze natuurlijke stofjes en hoe meer liganden er bekend zijn, hoe beter onze nieuwe ontwerpen zullen worden. Een goede oefening om te bepalen wat nou belangrijke interacties zijn voor binding van liganden aan een receptor is kijken naar de overeenkomsten en verschillen in structuur tussen agonisten (liganden die een receptor activeren) en antagonisten (liganden die de receptor niet activeren, maar enkel binden) voor een receptor.\n"
   ]
  },
  {
   "cell_type": "markdown",
   "id": "816e2f7d",
   "metadata": {},
   "source": [
    "-\tWat zijn de grootste verschillen in chemische structuur tussen adenosine en cafeïne?"
   ]
  },
  {
   "cell_type": "code",
   "execution_count": null,
   "id": "3c7bca16",
   "metadata": {},
   "outputs": [],
   "source": []
  }
 ],
 "metadata": {
  "kernelspec": {
   "display_name": "Python 3 (ipykernel)",
   "language": "python",
   "name": "python3"
  },
  "language_info": {
   "codemirror_mode": {
    "name": "ipython",
    "version": 3
   },
   "file_extension": ".py",
   "mimetype": "text/x-python",
   "name": "python",
   "nbconvert_exporter": "python",
   "pygments_lexer": "ipython3",
   "version": "3.9.12"
  }
 },
 "nbformat": 4,
 "nbformat_minor": 5
}
